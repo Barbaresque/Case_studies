{
 "cells": [
  {
   "cell_type": "markdown",
   "metadata": {
    "id": "DtNBZFHO3M7n"
   },
   "source": [
    "# <center> **TikTok Project**\n",
    "# <center> **Hypothesis Testing**"
   ]
  },
  {
   "cell_type": "markdown",
   "metadata": {},
   "source": [
    "In this activity, you will explore the data provided and conduct a hypothesis testing.  \n",
    "**The purpose** of this project is to demostrate knowledge of how to prepare, create, and analyze hypothesis tests.  \n",
    "**The goal** is to apply descriptive and inferential statistics, probability distributions, and hypothesis testing in Python.  \n",
    "* **Conduct hypothesis testing**\n",
    "    * How will descriptive statistics help you analyze your data?\n",
    "    * How will you formulate your null hypothesis and alternative hypothesis?\n",
    "\n",
    "* **Communicate insights with stakeholders**\n",
    "    * What key business insight(s) emerge from your hypothesis test?\n",
    "    * What business recommendations do you propose based on your results?\n",
    "\n",
    "*  **There are few possible ways to frame the research question. For instance:**\n",
    "    * Do videos from verified accounts and videos unverified accounts have different average view counts?\n",
    "    * Is there a relationship between the account being verified and the associated videos' view counts?\n",
    "    * Is there any relationship between categorical variables such as verified_status and author_status? "
   ]
  },
  {
   "cell_type": "markdown",
   "metadata": {
    "id": "xgQEdIN7f1Jq"
   },
   "source": [
    "## **1. Imports**"
   ]
  },
  {
   "cell_type": "code",
   "execution_count": 13,
   "metadata": {
    "id": "1Q-GL2UrgWWG"
   },
   "outputs": [],
   "source": [
    "# Import packages for data manipulation\n",
    "import pandas as pd\n",
    "import numpy as np\n",
    "\n",
    "# Import packages for data visualization\n",
    "import matplotlib.pyplot as plt\n",
    "import seaborn as sns\n",
    "\n",
    "# Import packages for statistical analysis/hypothesis testing\n",
    "from scipy import stats\n",
    "import statsmodels.api as sm\n",
    "from statsmodels.formula.api import ols\n",
    "from statsmodels.stats.multicomp import pairwise_tukeyhsd"
   ]
  },
  {
   "cell_type": "code",
   "execution_count": 16,
   "metadata": {
    "id": "_b_7kEWHjj-B"
   },
   "outputs": [],
   "source": [
    "# Load dataset into dataframe\n",
    "data = pd.read_csv(\"tiktok_dataset.csv\")\n",
    "# le dataset est nettoyé, pas de valeurs manquantes ou de doublons. "
   ]
  },
  {
   "cell_type": "markdown",
   "metadata": {
    "id": "UKhYTdVhf5B2"
   },
   "source": [
    "### **2. Data Exploration & Cleaning**"
   ]
  },
  {
   "cell_type": "code",
   "execution_count": 14,
   "metadata": {
    "colab": {
     "base_uri": "https://localhost:8080/",
     "height": 357
    },
    "executionInfo": {
     "elapsed": 62,
     "status": "ok",
     "timestamp": 1684362462530,
     "user": {
      "displayName": "Victoria Lansdown",
      "userId": "02417259790472296449"
     },
     "user_tz": 420
    },
    "id": "2rfk95MLp4a_",
    "outputId": "4f2c576d-bc9a-444e-a6fe-976239618834"
   },
   "outputs": [
    {
     "data": {
      "text/html": [
       "<div>\n",
       "<style scoped>\n",
       "    .dataframe tbody tr th:only-of-type {\n",
       "        vertical-align: middle;\n",
       "    }\n",
       "\n",
       "    .dataframe tbody tr th {\n",
       "        vertical-align: top;\n",
       "    }\n",
       "\n",
       "    .dataframe thead th {\n",
       "        text-align: right;\n",
       "    }\n",
       "</style>\n",
       "<table border=\"1\" class=\"dataframe\">\n",
       "  <thead>\n",
       "    <tr style=\"text-align: right;\">\n",
       "      <th></th>\n",
       "      <th>claim_status</th>\n",
       "      <th>video_id</th>\n",
       "      <th>video_duration_sec</th>\n",
       "      <th>video_transcription_text</th>\n",
       "      <th>verified_status</th>\n",
       "      <th>author_ban_status</th>\n",
       "      <th>video_view_count</th>\n",
       "      <th>video_like_count</th>\n",
       "      <th>video_share_count</th>\n",
       "      <th>video_download_count</th>\n",
       "      <th>video_comment_count</th>\n",
       "    </tr>\n",
       "  </thead>\n",
       "  <tbody>\n",
       "    <tr>\n",
       "      <th>0</th>\n",
       "      <td>claim</td>\n",
       "      <td>7017666017</td>\n",
       "      <td>59</td>\n",
       "      <td>someone shared with me that drone deliveries a...</td>\n",
       "      <td>not verified</td>\n",
       "      <td>under review</td>\n",
       "      <td>343296.0</td>\n",
       "      <td>19425.0</td>\n",
       "      <td>241.0</td>\n",
       "      <td>1.0</td>\n",
       "      <td>0.0</td>\n",
       "    </tr>\n",
       "    <tr>\n",
       "      <th>1</th>\n",
       "      <td>claim</td>\n",
       "      <td>4014381136</td>\n",
       "      <td>32</td>\n",
       "      <td>someone shared with me that there are more mic...</td>\n",
       "      <td>not verified</td>\n",
       "      <td>active</td>\n",
       "      <td>140877.0</td>\n",
       "      <td>77355.0</td>\n",
       "      <td>19034.0</td>\n",
       "      <td>1161.0</td>\n",
       "      <td>684.0</td>\n",
       "    </tr>\n",
       "    <tr>\n",
       "      <th>2</th>\n",
       "      <td>claim</td>\n",
       "      <td>9859838091</td>\n",
       "      <td>31</td>\n",
       "      <td>someone shared with me that american industria...</td>\n",
       "      <td>not verified</td>\n",
       "      <td>active</td>\n",
       "      <td>902185.0</td>\n",
       "      <td>97690.0</td>\n",
       "      <td>2858.0</td>\n",
       "      <td>833.0</td>\n",
       "      <td>329.0</td>\n",
       "    </tr>\n",
       "    <tr>\n",
       "      <th>3</th>\n",
       "      <td>claim</td>\n",
       "      <td>1866847991</td>\n",
       "      <td>25</td>\n",
       "      <td>someone shared with me that the metro of st. p...</td>\n",
       "      <td>not verified</td>\n",
       "      <td>active</td>\n",
       "      <td>437506.0</td>\n",
       "      <td>239954.0</td>\n",
       "      <td>34812.0</td>\n",
       "      <td>1234.0</td>\n",
       "      <td>584.0</td>\n",
       "    </tr>\n",
       "    <tr>\n",
       "      <th>4</th>\n",
       "      <td>claim</td>\n",
       "      <td>7105231098</td>\n",
       "      <td>19</td>\n",
       "      <td>someone shared with me that the number of busi...</td>\n",
       "      <td>not verified</td>\n",
       "      <td>active</td>\n",
       "      <td>56167.0</td>\n",
       "      <td>34987.0</td>\n",
       "      <td>4110.0</td>\n",
       "      <td>547.0</td>\n",
       "      <td>152.0</td>\n",
       "    </tr>\n",
       "  </tbody>\n",
       "</table>\n",
       "</div>"
      ],
      "text/plain": [
       "  claim_status    video_id  video_duration_sec  \\\n",
       "0        claim  7017666017                  59   \n",
       "1        claim  4014381136                  32   \n",
       "2        claim  9859838091                  31   \n",
       "3        claim  1866847991                  25   \n",
       "4        claim  7105231098                  19   \n",
       "\n",
       "                            video_transcription_text verified_status  \\\n",
       "0  someone shared with me that drone deliveries a...    not verified   \n",
       "1  someone shared with me that there are more mic...    not verified   \n",
       "2  someone shared with me that american industria...    not verified   \n",
       "3  someone shared with me that the metro of st. p...    not verified   \n",
       "4  someone shared with me that the number of busi...    not verified   \n",
       "\n",
       "  author_ban_status  video_view_count  video_like_count  video_share_count  \\\n",
       "0      under review          343296.0           19425.0              241.0   \n",
       "1            active          140877.0           77355.0            19034.0   \n",
       "2            active          902185.0           97690.0             2858.0   \n",
       "3            active          437506.0          239954.0            34812.0   \n",
       "4            active           56167.0           34987.0             4110.0   \n",
       "\n",
       "   video_download_count  video_comment_count  \n",
       "0                   1.0                  0.0  \n",
       "1                1161.0                684.0  \n",
       "2                 833.0                329.0  \n",
       "3                1234.0                584.0  \n",
       "4                 547.0                152.0  "
      ]
     },
     "execution_count": 14,
     "metadata": {},
     "output_type": "execute_result"
    }
   ],
   "source": [
    "data.head()"
   ]
  },
  {
   "cell_type": "code",
   "execution_count": 17,
   "metadata": {},
   "outputs": [
    {
     "name": "stdout",
     "output_type": "stream",
     "text": [
      "<class 'pandas.core.frame.DataFrame'>\n",
      "Index: 19084 entries, 0 to 19083\n",
      "Data columns (total 11 columns):\n",
      " #   Column                    Non-Null Count  Dtype  \n",
      "---  ------                    --------------  -----  \n",
      " 0   claim_status              19084 non-null  object \n",
      " 1   video_id                  19084 non-null  int64  \n",
      " 2   video_duration_sec        19084 non-null  int64  \n",
      " 3   video_transcription_text  19084 non-null  object \n",
      " 4   verified_status           19084 non-null  object \n",
      " 5   author_ban_status         19084 non-null  object \n",
      " 6   video_view_count          19084 non-null  float64\n",
      " 7   video_like_count          19084 non-null  float64\n",
      " 8   video_share_count         19084 non-null  float64\n",
      " 9   video_download_count      19084 non-null  float64\n",
      " 10  video_comment_count       19084 non-null  float64\n",
      "dtypes: float64(5), int64(2), object(4)\n",
      "memory usage: 1.7+ MB\n"
     ]
    }
   ],
   "source": [
    "data.dropna(inplace=True, axis=0)\n",
    "data.drop_duplicates(inplace=True, keep='first')\n",
    "data.drop(columns=['#'], inplace=True)\n",
    "data.info()"
   ]
  },
  {
   "cell_type": "code",
   "execution_count": 12,
   "metadata": {
    "colab": {
     "base_uri": "https://localhost:8080/",
     "height": 300
    },
    "executionInfo": {
     "elapsed": 50,
     "status": "ok",
     "timestamp": 1684362462532,
     "user": {
      "displayName": "Victoria Lansdown",
      "userId": "02417259790472296449"
     },
     "user_tz": 420
    },
    "id": "70vpvcv1gArp",
    "outputId": "fe40e702-142b-4b77-daf1-092f04e93b61"
   },
   "outputs": [
    {
     "data": {
      "text/html": [
       "<div>\n",
       "<style scoped>\n",
       "    .dataframe tbody tr th:only-of-type {\n",
       "        vertical-align: middle;\n",
       "    }\n",
       "\n",
       "    .dataframe tbody tr th {\n",
       "        vertical-align: top;\n",
       "    }\n",
       "\n",
       "    .dataframe thead th {\n",
       "        text-align: right;\n",
       "    }\n",
       "</style>\n",
       "<table border=\"1\" class=\"dataframe\">\n",
       "  <thead>\n",
       "    <tr style=\"text-align: right;\">\n",
       "      <th></th>\n",
       "      <th>count</th>\n",
       "      <th>mean</th>\n",
       "      <th>std</th>\n",
       "      <th>min</th>\n",
       "      <th>25%</th>\n",
       "      <th>50%</th>\n",
       "      <th>75%</th>\n",
       "      <th>max</th>\n",
       "    </tr>\n",
       "  </thead>\n",
       "  <tbody>\n",
       "    <tr>\n",
       "      <th>video_duration_sec</th>\n",
       "      <td>19084.0</td>\n",
       "      <td>32.42</td>\n",
       "      <td>16.23</td>\n",
       "      <td>5.0</td>\n",
       "      <td>18.00</td>\n",
       "      <td>32.0</td>\n",
       "      <td>47.00</td>\n",
       "      <td>60.0</td>\n",
       "    </tr>\n",
       "    <tr>\n",
       "      <th>video_view_count</th>\n",
       "      <td>19084.0</td>\n",
       "      <td>254708.56</td>\n",
       "      <td>322893.28</td>\n",
       "      <td>20.0</td>\n",
       "      <td>4942.50</td>\n",
       "      <td>9954.5</td>\n",
       "      <td>504327.00</td>\n",
       "      <td>999817.0</td>\n",
       "    </tr>\n",
       "    <tr>\n",
       "      <th>video_like_count</th>\n",
       "      <td>19084.0</td>\n",
       "      <td>84304.64</td>\n",
       "      <td>133420.55</td>\n",
       "      <td>0.0</td>\n",
       "      <td>810.75</td>\n",
       "      <td>3403.5</td>\n",
       "      <td>125020.00</td>\n",
       "      <td>657830.0</td>\n",
       "    </tr>\n",
       "    <tr>\n",
       "      <th>video_share_count</th>\n",
       "      <td>19084.0</td>\n",
       "      <td>16735.25</td>\n",
       "      <td>32036.17</td>\n",
       "      <td>0.0</td>\n",
       "      <td>115.00</td>\n",
       "      <td>717.0</td>\n",
       "      <td>18222.00</td>\n",
       "      <td>256130.0</td>\n",
       "    </tr>\n",
       "    <tr>\n",
       "      <th>video_download_count</th>\n",
       "      <td>19084.0</td>\n",
       "      <td>1049.43</td>\n",
       "      <td>2004.30</td>\n",
       "      <td>0.0</td>\n",
       "      <td>7.00</td>\n",
       "      <td>46.0</td>\n",
       "      <td>1156.25</td>\n",
       "      <td>14994.0</td>\n",
       "    </tr>\n",
       "    <tr>\n",
       "      <th>video_comment_count</th>\n",
       "      <td>19084.0</td>\n",
       "      <td>349.31</td>\n",
       "      <td>799.64</td>\n",
       "      <td>0.0</td>\n",
       "      <td>1.00</td>\n",
       "      <td>9.0</td>\n",
       "      <td>292.00</td>\n",
       "      <td>9599.0</td>\n",
       "    </tr>\n",
       "  </tbody>\n",
       "</table>\n",
       "</div>"
      ],
      "text/plain": [
       "                        count       mean        std   min      25%     50%  \\\n",
       "video_duration_sec    19084.0      32.42      16.23   5.0    18.00    32.0   \n",
       "video_view_count      19084.0  254708.56  322893.28  20.0  4942.50  9954.5   \n",
       "video_like_count      19084.0   84304.64  133420.55   0.0   810.75  3403.5   \n",
       "video_share_count     19084.0   16735.25   32036.17   0.0   115.00   717.0   \n",
       "video_download_count  19084.0    1049.43    2004.30   0.0     7.00    46.0   \n",
       "video_comment_count   19084.0     349.31     799.64   0.0     1.00     9.0   \n",
       "\n",
       "                            75%       max  \n",
       "video_duration_sec        47.00      60.0  \n",
       "video_view_count      504327.00  999817.0  \n",
       "video_like_count      125020.00  657830.0  \n",
       "video_share_count      18222.00  256130.0  \n",
       "video_download_count    1156.25   14994.0  \n",
       "video_comment_count      292.00    9599.0  "
      ]
     },
     "execution_count": 12,
     "metadata": {},
     "output_type": "execute_result"
    }
   ],
   "source": [
    "# Some descriptive statistics : \n",
    "data[[\"video_duration_sec\", \"video_view_count\",\t\n",
    "      \"video_like_count\", \"video_share_count\",\t\n",
    "      \"video_download_count\", \"video_comment_count\"]].describe().round(2).T"
   ]
  },
  {
   "cell_type": "markdown",
   "metadata": {
    "id": "QpFRQDaNzX6p"
   },
   "source": [
    "### **3. Hypothesis Testing** "
   ]
  },
  {
   "cell_type": "markdown",
   "metadata": {
    "id": "-fFiNg4hdGBK"
   },
   "source": [
    "* You are interested in the relationship between **`verified_status`** and **`video_view_count`**. \n",
    "* One approach is to examine the mean values of **`video_view_count`** for each group of **`verified_status`** in the sample data."
   ]
  },
  {
   "cell_type": "code",
   "execution_count": 19,
   "metadata": {
    "colab": {
     "base_uri": "https://localhost:8080/"
    },
    "executionInfo": {
     "elapsed": 39,
     "status": "ok",
     "timestamp": 1684362462536,
     "user": {
      "displayName": "Victoria Lansdown",
      "userId": "02417259790472296449"
     },
     "user_tz": 420
    },
    "id": "2LGEWrdVXgI2",
    "outputId": "4596241c-17c4-4c0f-ee9b-09c0c3742ba3"
   },
   "outputs": [
    {
     "data": {
      "text/plain": [
       "verified_status\n",
       "not verified    265663.79\n",
       "verified         91439.16\n",
       "Name: video_view_count, dtype: float64"
      ]
     },
     "execution_count": 19,
     "metadata": {},
     "output_type": "execute_result"
    }
   ],
   "source": [
    "# Compute the mean `video_view_count` for each group in `verified_status`\n",
    "data.groupby(\"verified_status\")[\"video_view_count\"].mean().round(2)"
   ]
  },
  {
   "cell_type": "markdown",
   "metadata": {
    "id": "h1PRfiD3hcwE"
   },
   "source": [
    "#### **3.1. Formulate Hypothesis**"
   ]
  },
  {
   "cell_type": "markdown",
   "metadata": {
    "id": "X5YBFKLZulG5"
   },
   "source": [
    "* **Null & Alternative Hypothesis :** \n",
    "   * **Null Hypothesis :**  \n",
    "   There is no difference in number of views between TikTok videos posted by **`verified accounts`** and TikTok videos posted by **`unverified accounts`**  \n",
    "   (any observed difference in the sample data is due to chance or sampling variability).  \n",
    "   * **Alternative Hypothesis :**  \n",
    "   There is a difference in number of views between TikTok videos posted by verified accounts and TikTok videos posted by unverified accounts  \n",
    "   (any observed difference in the sample data is due to an actual difference in the corresponding population means).\n",
    "* **Your goal in this step is to conduct a `two-sample t-test`**  \n",
    "* **The steps for conducting a hypothesis test:**\n",
    "    *  State the null hypothesis and the alternative hypothesis\n",
    "    *  Choose a signficance level\n",
    "    *  Find the p-value\n",
    "    *  Reject or fail to reject the null hypothesis"
   ]
  },
  {
   "cell_type": "code",
   "execution_count": 21,
   "metadata": {
    "colab": {
     "base_uri": "https://localhost:8080/"
    },
    "executionInfo": {
     "elapsed": 36,
     "status": "ok",
     "timestamp": 1684362462538,
     "user": {
      "displayName": "Victoria Lansdown",
      "userId": "02417259790472296449"
     },
     "user_tz": 420
    },
    "id": "rdlsXg7Dhbrd",
    "outputId": "c25ee2f9-cf41-4dfa-d7dd-8c30ffd47966"
   },
   "outputs": [
    {
     "data": {
      "text/plain": [
       "TtestResult(statistic=25.499441780633777, pvalue=2.6088823687177823e-120, df=1571.163074387424)"
      ]
     },
     "execution_count": 21,
     "metadata": {},
     "output_type": "execute_result"
    }
   ],
   "source": [
    "# We choose 5% as the significance level and proceed with a two-sample t-test.\n",
    "# Conduct a two-sample t-test to compare means\n",
    "# Save each sample in a variable\n",
    "not_verified = data[data[\"verified_status\"] == \"not verified\"][\"video_view_count\"]\n",
    "verified = data[data[\"verified_status\"] == \"verified\"][\"video_view_count\"]\n",
    "\n",
    "# Implement a t-test using the two samples\n",
    "stats.ttest_ind(a=not_verified, b=verified, equal_var=False)"
   ]
  },
  {
   "cell_type": "markdown",
   "metadata": {
    "id": "64Wq_VSaVsNm"
   },
   "source": [
    "* Since the p-value is extremely small (much smaller than the significance level of 5%), you reject the null hypothesis.  \n",
    "* You conclude that there **is a statistically significant** difference in the mean video view count between verified and unverified accounts on TikTok.\n"
   ]
  },
  {
   "cell_type": "markdown",
   "metadata": {},
   "source": [
    "#### **3.2. Interpret & communicate**"
   ]
  },
  {
   "cell_type": "markdown",
   "metadata": {
    "id": "2OhGFrMCpSj1"
   },
   "source": [
    "- The analysis shows that there is a statistically significant difference in the average view counts between videos from verified accounts and videos from unverified accounts. This suggests there might be fundamental behavioral differences between these two groups of accounts.\n",
    "- It would be interesting to investigate the root cause of this behavioral difference. For example, do unverified accounts tend to post **more clickbait-y videos**?  \n",
    "Or are unverified accounts associated with **spam bots** that help inflate view counts?\n",
    "- The next step will be to build a regression model on verified_status.  \n",
    "- A regression model is the natural next step because the end goal is to make predictions on claim status.  \n",
    "- A regression model for verified_status can help analyze user behavior in this group of verified users.  \n",
    "- Technical note to prepare regression model: because the data is skewed, and there is a significant difference in account types, it will be key to build a logistic regression model."
   ]
  }
 ],
 "metadata": {
  "colab": {
   "provenance": []
  },
  "kernelspec": {
   "display_name": "base",
   "language": "python",
   "name": "python3"
  },
  "language_info": {
   "codemirror_mode": {
    "name": "ipython",
    "version": 3
   },
   "file_extension": ".py",
   "mimetype": "text/x-python",
   "name": "python",
   "nbconvert_exporter": "python",
   "pygments_lexer": "ipython3",
   "version": "3.12.7"
  }
 },
 "nbformat": 4,
 "nbformat_minor": 1
}
